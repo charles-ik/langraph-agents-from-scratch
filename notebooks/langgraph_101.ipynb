{
 "cells": [
  {
   "cell_type": "markdown",
   "id": "dc082433",
   "metadata": {},
   "source": [
    "# LangGraph 101\n",
    "\n",
    "[LLMs](https://python.langchain.com/docs/concepts/chat_models/) make it possible to embed intelligence into a new class of applications. [LangGraph](https://langchain-ai.github.io/langgraph/) is a framework to help build applications with LLMs. Here, we will overview the basics of LangGraph, explain its benefits, show how to use it to build workflows / agents, and show how it works with [LangChain](https://www.langchain.com/) / [LangSmith](https://docs.smith.langchain.com/).\n",
    "\n",
    "![ecosystem](./img/ecosystem.png)\n",
    "\n",
    "## Chat models\n",
    "\n",
    "[Chat models](https://python.langchain.com/docs/concepts/chat_models/) are the foundation of LLM applications. They are typically accessed through a chat interface that takes a list of [messages](https://python.langchain.com/docs/concepts/messages/) as input and returns a [message](https://python.langchain.com/docs/concepts/messages/) as output. LangChain provides [a standardized interface for chat models](https://python.langchain.com/api_reference/langchain/chat_models/langchain.chat_models.base.init_chat_model.html), making it easy to [access many different providers](https://python.langchain.com/docs/integrations/chat/)."
   ]
  },
  {
   "cell_type": "code",
   "execution_count": 7,
   "id": "cecc2b24",
   "metadata": {},
   "outputs": [
    {
     "data": {
      "text/plain": [
       "True"
      ]
     },
     "execution_count": 7,
     "metadata": {},
     "output_type": "execute_result"
    }
   ],
   "source": [
    "from dotenv import load_dotenv\n",
    "load_dotenv(\"../.env\", override=True)"
   ]
  },
  {
   "cell_type": "code",
   "execution_count": 8,
   "id": "e0ee8f6c",
   "metadata": {},
   "outputs": [],
   "source": [
    "from langchain.chat_models import init_chat_model\n",
    "llm = init_chat_model(\"openai:gpt-4.1\", temperature=0)"
   ]
  },
  {
   "cell_type": "code",
   "execution_count": 9,
   "id": "cc1ba8eb",
   "metadata": {},
   "outputs": [
    {
     "name": "stdout",
     "output_type": "stream",
     "text": [
      "\u001b[31mSignature:\u001b[39m\n",
      "llm.invoke(\n",
      "    input: \u001b[33m'LanguageModelInput'\u001b[39m,\n",
      "    config: \u001b[33m'Optional[RunnableConfig]'\u001b[39m = \u001b[38;5;28;01mNone\u001b[39;00m,\n",
      "    *,\n",
      "    stop: \u001b[33m'Optional[list[str]]'\u001b[39m = \u001b[38;5;28;01mNone\u001b[39;00m,\n",
      "    **kwargs: \u001b[33m'Any'\u001b[39m,\n",
      ") -> \u001b[33m'BaseMessage'\u001b[39m\n",
      "\u001b[31mDocstring:\u001b[39m\n",
      "Transform a single input into an output.\n",
      "\n",
      "Args:\n",
      "    input: The input to the Runnable.\n",
      "    config: A config to use when invoking the Runnable.\n",
      "       The config supports standard keys like 'tags', 'metadata' for tracing\n",
      "       purposes, 'max_concurrency' for controlling how much work to do\n",
      "       in parallel, and other keys. Please refer to the RunnableConfig\n",
      "       for more details.\n",
      "\n",
      "Returns:\n",
      "    The output of the Runnable.\n",
      "\u001b[31mSource:\u001b[39m   \n",
      "    @override\n",
      "    \u001b[38;5;28;01mdef\u001b[39;00m invoke(\n",
      "        self,\n",
      "        input: LanguageModelInput,\n",
      "        config: Optional[RunnableConfig] = \u001b[38;5;28;01mNone\u001b[39;00m,\n",
      "        *,\n",
      "        stop: Optional[list[str]] = \u001b[38;5;28;01mNone\u001b[39;00m,\n",
      "        **kwargs: Any,\n",
      "    ) -> BaseMessage:\n",
      "        config = ensure_config(config)\n",
      "        \u001b[38;5;28;01mreturn\u001b[39;00m cast(\n",
      "            \u001b[33m\"ChatGeneration\"\u001b[39m,\n",
      "            self.generate_prompt(\n",
      "                [self._convert_input(input)],\n",
      "                stop=stop,\n",
      "                callbacks=config.get(\u001b[33m\"callbacks\"\u001b[39m),\n",
      "                tags=config.get(\u001b[33m\"tags\"\u001b[39m),\n",
      "                metadata=config.get(\u001b[33m\"metadata\"\u001b[39m),\n",
      "                run_name=config.get(\u001b[33m\"run_name\"\u001b[39m),\n",
      "                run_id=config.pop(\u001b[33m\"run_id\"\u001b[39m, \u001b[38;5;28;01mNone\u001b[39;00m),\n",
      "                **kwargs,\n",
      "            ).generations[\u001b[32m0\u001b[39m][\u001b[32m0\u001b[39m],\n",
      "        ).message\n",
      "\u001b[31mFile:\u001b[39m      c:\\users\\cikeg\\onedrive\\desktop\\desktop documents\\code\\ai agents\\langraph-agents-from-scratch\\.venv\\lib\\site-packages\\langchain_core\\language_models\\chat_models.py\n",
      "\u001b[31mType:\u001b[39m      method"
     ]
    }
   ],
   "source": [
    "llm.invoke??"
   ]
  },
  {
   "cell_type": "markdown",
   "id": "50777b0b",
   "metadata": {},
   "source": [
    "## Running the model\n",
    "\n",
    "The `init_chat_model` interface provides [standardized](https://python.langchain.com/docs/concepts/runnables/) methods for using chat models, which include:\n",
    "- `invoke()`: A single input is transformed into an output.\n",
    "- `stream()`: Outputs are [streamed](https://python.langchain.com/docs/concepts/streaming/#stream-and-astream) as they are produced. "
   ]
  },
  {
   "cell_type": "code",
   "execution_count": 10,
   "id": "a28159d5",
   "metadata": {},
   "outputs": [],
   "source": [
    "prompt = ''' \n",
    "What is an agent?, and how does it differ from a standard LLM? \n",
    "How accurate is it to say agents are just two or more llms solving problems together and evaluating each other.\n",
    "\n",
    "'''\n",
    "\n",
    "result = llm.invoke(prompt)"
   ]
  },
  {
   "cell_type": "code",
   "execution_count": 11,
   "id": "41137023",
   "metadata": {},
   "outputs": [
    {
     "data": {
      "text/plain": [
       "langchain_core.messages.ai.AIMessage"
      ]
     },
     "execution_count": 11,
     "metadata": {},
     "output_type": "execute_result"
    }
   ],
   "source": [
    "type(result)"
   ]
  },
  {
   "cell_type": "code",
   "execution_count": 12,
   "id": "dc1d00eb",
   "metadata": {},
   "outputs": [
    {
     "data": {
      "text/html": [
       "<pre style=\"white-space:pre;overflow-x:auto;line-height:normal;font-family:Menlo,'DejaVu Sans Mono',consolas,'Courier New',monospace\">Great questions! Let’s break them down:                                                                            \n",
       "\n",
       "<span style=\"color: #808000; text-decoration-color: #808000\">───────────────────────────────────────────────────────────────────────────────────────────────────────────────────</span>\n",
       "                                               <span style=\"font-weight: bold\">1. What is an agent?</span>                                                \n",
       "\n",
       "In the context of AI and LLMs, an <span style=\"font-weight: bold\">agent</span> is a system that can <span style=\"font-weight: bold\">autonomously perceive, reason, and act</span> in an          \n",
       "environment to achieve specific goals. In practice, an \"agent\" built on top of an LLM (like GPT-4) is typically a  \n",
       "software entity that:                                                                                              \n",
       "\n",
       "<span style=\"color: #808000; text-decoration-color: #808000; font-weight: bold\"> • </span><span style=\"font-weight: bold\">Receives tasks or goals</span> (e.g., \"Book me a flight to Paris\").                                                    \n",
       "<span style=\"color: #808000; text-decoration-color: #808000; font-weight: bold\"> • </span><span style=\"font-weight: bold\">Plans actions</span> (e.g., search for flights, compare prices).                                                       \n",
       "<span style=\"color: #808000; text-decoration-color: #808000; font-weight: bold\"> • </span><span style=\"font-weight: bold\">Interacts with tools or APIs</span> (e.g., web browsers, databases, email).                                            \n",
       "<span style=\"color: #808000; text-decoration-color: #808000; font-weight: bold\"> • </span><span style=\"font-weight: bold\">Makes decisions</span> based on feedback or results.                                                                   \n",
       "<span style=\"color: #808000; text-decoration-color: #808000; font-weight: bold\"> • </span><span style=\"font-weight: bold\">Iterates</span> until the goal is achieved or a stopping condition is met.                                             \n",
       "\n",
       "<span style=\"font-weight: bold\">Key point:</span> An agent is not just a model—it’s a system that uses models (often LLMs) as components to reason, plan, \n",
       "and act.                                                                                                           \n",
       "\n",
       "<span style=\"color: #808000; text-decoration-color: #808000\">───────────────────────────────────────────────────────────────────────────────────────────────────────────────────</span>\n",
       "                                    <span style=\"font-weight: bold\">2. How does it differ from a standard LLM?</span>                                     \n",
       "\n",
       "A <span style=\"font-weight: bold\">standard LLM</span> (like GPT-4, Claude, etc.) is a <span style=\"font-weight: bold\">stateless text generator</span>: you give it a prompt, it gives you a      \n",
       "response. It doesn’t remember past interactions (unless you include them in the prompt), and it doesn’t take       \n",
       "actions in the world.                                                                                              \n",
       "\n",
       "<span style=\"font-weight: bold\">An agent, by contrast:</span>                                                                                             \n",
       "\n",
       "<span style=\"color: #808000; text-decoration-color: #808000; font-weight: bold\"> • </span><span style=\"font-weight: bold\">Has memory/state:</span> It can remember previous steps, results, or context.                                          \n",
       "<span style=\"color: #808000; text-decoration-color: #808000; font-weight: bold\"> • </span><span style=\"font-weight: bold\">Can take actions:</span> It can call APIs, use tools, browse the web, etc.                                             \n",
       "<span style=\"color: #808000; text-decoration-color: #808000; font-weight: bold\"> • </span><span style=\"font-weight: bold\">Can plan and iterate:</span> It can break down tasks, try different approaches, and adapt based on feedback.           \n",
       "<span style=\"color: #808000; text-decoration-color: #808000; font-weight: bold\"> • </span><span style=\"font-weight: bold\">May use multiple models or tools:</span> It can coordinate between different LLMs, APIs, or software components.       \n",
       "\n",
       "<span style=\"font-weight: bold\">Summary:</span>                                                                                                           \n",
       "\n",
       "<span style=\"color: #808000; text-decoration-color: #808000; font-weight: bold\"> • </span><span style=\"font-weight: bold\">LLM:</span> Text-in, text-out, no memory, no actions.                                                                  \n",
       "<span style=\"color: #808000; text-decoration-color: #808000; font-weight: bold\"> • </span><span style=\"font-weight: bold\">Agent:</span> Goal-in, actions-out, with memory, planning, and tool use.                                               \n",
       "\n",
       "<span style=\"color: #808000; text-decoration-color: #808000\">───────────────────────────────────────────────────────────────────────────────────────────────────────────────────</span>\n",
       "             <span style=\"font-weight: bold\">3. Are agents just two or more LLMs solving problems together and evaluating each other?</span>              \n",
       "\n",
       "<span style=\"font-weight: bold\">Not exactly.</span>                                                                                                       \n",
       "While some agent architectures use multiple LLMs (e.g., one to generate solutions, another to critique), <span style=\"font-weight: bold\">the core </span> \n",
       "<span style=\"font-weight: bold\">idea of an agent is broader</span>:                                                                                       \n",
       "\n",
       "<span style=\"color: #808000; text-decoration-color: #808000; font-weight: bold\"> • </span><span style=\"font-weight: bold\">Agents can use a single LLM</span> (with code to manage memory, planning, and tool use).                               \n",
       "<span style=\"color: #808000; text-decoration-color: #808000; font-weight: bold\"> • </span><span style=\"font-weight: bold\">Agents can use multiple LLMs</span> (for self-critique, debate, or specialized tasks).                                 \n",
       "<span style=\"color: #808000; text-decoration-color: #808000; font-weight: bold\"> • </span><span style=\"font-weight: bold\">Agents can use non-LLM tools</span> (APIs, databases, calculators, etc.).                                              \n",
       "<span style=\"color: #808000; text-decoration-color: #808000; font-weight: bold\"> • </span><span style=\"font-weight: bold\">Agents are defined by their autonomy and ability to act</span>, not just by having multiple LLMs.                      \n",
       "\n",
       "<span style=\"font-weight: bold\">So:</span>                                                                                                                \n",
       "\n",
       "<span style=\"color: #808000; text-decoration-color: #808000; font-weight: bold\"> • </span>It’s <span style=\"font-weight: bold\">inaccurate</span> to say agents are <span style=\"font-style: italic\">just</span> two or more LLMs solving and evaluating together.                        \n",
       "<span style=\"color: #808000; text-decoration-color: #808000; font-weight: bold\"> • </span>That’s <span style=\"font-style: italic\">one possible architecture</span>, but not the definition of an agent.                                           \n",
       "\n",
       "<span style=\"color: #808000; text-decoration-color: #808000\">───────────────────────────────────────────────────────────────────────────────────────────────────────────────────</span>\n",
       "                                                   <span style=\"font-weight: bold\">Summary Table</span>                                                   \n",
       "\n",
       "                                                               \n",
       " <span style=\"font-weight: bold\"> Feature       </span> <span style=\"font-weight: bold\"> Standard LLM    </span> <span style=\"font-weight: bold\"> Agent (LLM-based)         </span> \n",
       " ━━━━━━━━━━━━━━━━━━━━━━━━━━━━━━━━━━━━━━━━━━━━━━━━━━━━━━━━━━━━━ \n",
       "  Memory          No (stateless)    Yes (stateful)             \n",
       "  Planning        No                Yes                        \n",
       "  Tool Use        No                Yes                        \n",
       "  Autonomy        No                Yes                        \n",
       "  Multiple LLMs   Not required      Optional                   \n",
       "  Example         ChatGPT, Claude   Auto-GPT, LangChain Agent  \n",
       "                                                               \n",
       "\n",
       "<span style=\"color: #808000; text-decoration-color: #808000\">───────────────────────────────────────────────────────────────────────────────────────────────────────────────────</span>\n",
       "<span style=\"font-weight: bold\">In short:</span>                                                                                                          \n",
       "\n",
       "<span style=\"color: #808000; text-decoration-color: #808000; font-weight: bold\"> • </span>An agent is an autonomous system that can plan, act, and use tools (often powered by LLMs).                     \n",
       "<span style=\"color: #808000; text-decoration-color: #808000; font-weight: bold\"> • </span>It’s not just multiple LLMs working together, though that can be part of an agent’s design.                     \n",
       "\n",
       "Let me know if you want examples or more technical details!                                                        \n",
       "</pre>\n"
      ],
      "text/plain": [
       "Great questions! Let’s break them down:                                                                            \n",
       "\n",
       "\u001b[33m───────────────────────────────────────────────────────────────────────────────────────────────────────────────────\u001b[0m\n",
       "                                               \u001b[1m1. \u001b[0m\u001b[1mWhat is an agent?\u001b[0m                                                \n",
       "\n",
       "In the context of AI and LLMs, an \u001b[1magent\u001b[0m is a system that can \u001b[1mautonomously perceive, reason, and act\u001b[0m in an          \n",
       "environment to achieve specific goals. In practice, an \"agent\" built on top of an LLM (like GPT-4) is typically a  \n",
       "software entity that:                                                                                              \n",
       "\n",
       "\u001b[1;33m • \u001b[0m\u001b[1mReceives tasks or goals\u001b[0m (e.g., \"Book me a flight to Paris\").                                                    \n",
       "\u001b[1;33m • \u001b[0m\u001b[1mPlans actions\u001b[0m (e.g., search for flights, compare prices).                                                       \n",
       "\u001b[1;33m • \u001b[0m\u001b[1mInteracts with tools or APIs\u001b[0m (e.g., web browsers, databases, email).                                            \n",
       "\u001b[1;33m • \u001b[0m\u001b[1mMakes decisions\u001b[0m based on feedback or results.                                                                   \n",
       "\u001b[1;33m • \u001b[0m\u001b[1mIterates\u001b[0m until the goal is achieved or a stopping condition is met.                                             \n",
       "\n",
       "\u001b[1mKey point:\u001b[0m An agent is not just a model—it’s a system that uses models (often LLMs) as components to reason, plan, \n",
       "and act.                                                                                                           \n",
       "\n",
       "\u001b[33m───────────────────────────────────────────────────────────────────────────────────────────────────────────────────\u001b[0m\n",
       "                                    \u001b[1m2. \u001b[0m\u001b[1mHow does it differ from a standard LLM?\u001b[0m                                     \n",
       "\n",
       "A \u001b[1mstandard LLM\u001b[0m (like GPT-4, Claude, etc.) is a \u001b[1mstateless text generator\u001b[0m: you give it a prompt, it gives you a      \n",
       "response. It doesn’t remember past interactions (unless you include them in the prompt), and it doesn’t take       \n",
       "actions in the world.                                                                                              \n",
       "\n",
       "\u001b[1mAn agent, by contrast:\u001b[0m                                                                                             \n",
       "\n",
       "\u001b[1;33m • \u001b[0m\u001b[1mHas memory/state:\u001b[0m It can remember previous steps, results, or context.                                          \n",
       "\u001b[1;33m • \u001b[0m\u001b[1mCan take actions:\u001b[0m It can call APIs, use tools, browse the web, etc.                                             \n",
       "\u001b[1;33m • \u001b[0m\u001b[1mCan plan and iterate:\u001b[0m It can break down tasks, try different approaches, and adapt based on feedback.           \n",
       "\u001b[1;33m • \u001b[0m\u001b[1mMay use multiple models or tools:\u001b[0m It can coordinate between different LLMs, APIs, or software components.       \n",
       "\n",
       "\u001b[1mSummary:\u001b[0m                                                                                                           \n",
       "\n",
       "\u001b[1;33m • \u001b[0m\u001b[1mLLM:\u001b[0m Text-in, text-out, no memory, no actions.                                                                  \n",
       "\u001b[1;33m • \u001b[0m\u001b[1mAgent:\u001b[0m Goal-in, actions-out, with memory, planning, and tool use.                                               \n",
       "\n",
       "\u001b[33m───────────────────────────────────────────────────────────────────────────────────────────────────────────────────\u001b[0m\n",
       "             \u001b[1m3. \u001b[0m\u001b[1mAre agents just two or more LLMs solving problems together and evaluating each other?\u001b[0m              \n",
       "\n",
       "\u001b[1mNot exactly.\u001b[0m                                                                                                       \n",
       "While some agent architectures use multiple LLMs (e.g., one to generate solutions, another to critique), \u001b[1mthe core \u001b[0m \n",
       "\u001b[1midea of an agent is broader\u001b[0m:                                                                                       \n",
       "\n",
       "\u001b[1;33m • \u001b[0m\u001b[1mAgents can use a single LLM\u001b[0m (with code to manage memory, planning, and tool use).                               \n",
       "\u001b[1;33m • \u001b[0m\u001b[1mAgents can use multiple LLMs\u001b[0m (for self-critique, debate, or specialized tasks).                                 \n",
       "\u001b[1;33m • \u001b[0m\u001b[1mAgents can use non-LLM tools\u001b[0m (APIs, databases, calculators, etc.).                                              \n",
       "\u001b[1;33m • \u001b[0m\u001b[1mAgents are defined by their autonomy and ability to act\u001b[0m, not just by having multiple LLMs.                      \n",
       "\n",
       "\u001b[1mSo:\u001b[0m                                                                                                                \n",
       "\n",
       "\u001b[1;33m • \u001b[0mIt’s \u001b[1minaccurate\u001b[0m to say agents are \u001b[3mjust\u001b[0m two or more LLMs solving and evaluating together.                        \n",
       "\u001b[1;33m • \u001b[0mThat’s \u001b[3mone possible architecture\u001b[0m, but not the definition of an agent.                                           \n",
       "\n",
       "\u001b[33m───────────────────────────────────────────────────────────────────────────────────────────────────────────────────\u001b[0m\n",
       "                                                   \u001b[1mSummary Table\u001b[0m                                                   \n",
       "\n",
       "                                                               \n",
       " \u001b[1m \u001b[0m\u001b[1mFeature\u001b[0m\u001b[1m      \u001b[0m\u001b[1m \u001b[0m \u001b[1m \u001b[0m\u001b[1mStandard LLM\u001b[0m\u001b[1m   \u001b[0m\u001b[1m \u001b[0m \u001b[1m \u001b[0m\u001b[1mAgent (LLM-based)\u001b[0m\u001b[1m        \u001b[0m\u001b[1m \u001b[0m \n",
       " ━━━━━━━━━━━━━━━━━━━━━━━━━━━━━━━━━━━━━━━━━━━━━━━━━━━━━━━━━━━━━ \n",
       "  Memory          No (stateless)    Yes (stateful)             \n",
       "  Planning        No                Yes                        \n",
       "  Tool Use        No                Yes                        \n",
       "  Autonomy        No                Yes                        \n",
       "  Multiple LLMs   Not required      Optional                   \n",
       "  Example         ChatGPT, Claude   Auto-GPT, LangChain Agent  \n",
       "                                                               \n",
       "\n",
       "\u001b[33m───────────────────────────────────────────────────────────────────────────────────────────────────────────────────\u001b[0m\n",
       "\u001b[1mIn short:\u001b[0m                                                                                                          \n",
       "\n",
       "\u001b[1;33m • \u001b[0mAn agent is an autonomous system that can plan, act, and use tools (often powered by LLMs).                     \n",
       "\u001b[1;33m • \u001b[0mIt’s not just multiple LLMs working together, though that can be part of an agent’s design.                     \n",
       "\n",
       "Let me know if you want examples or more technical details!                                                        \n"
      ]
     },
     "execution_count": 12,
     "metadata": {},
     "output_type": "execute_result"
    }
   ],
   "source": [
    "from rich.markdown import Markdown\n",
    "Markdown(result.content)"
   ]
  },
  {
   "cell_type": "markdown",
   "id": "9a24d8ef",
   "metadata": {},
   "source": [
    "## Tools\n",
    "\n",
    "[Tools](https://python.langchain.com/docs/concepts/tools/) are utilities that can be called by a chat model. In LangChain, creating tools can be done using the `@tool` decorator, which transforms Python functions into callable tools. It will automatically infer the tool's name, description, and expected arguments from the function definition. You can also use [Model Context Protocol (MCP) servers](https://github.com/langchain-ai/langchain-mcp-adapters) as LangChain-compatible tools. "
   ]
  },
  {
   "cell_type": "code",
   "execution_count": 13,
   "id": "afdff275",
   "metadata": {},
   "outputs": [],
   "source": [
    "from langchain.tools import tool\n",
    "\n",
    "@tool # using the tool decorator allows us to create tools easily\n",
    "def write_email(to: str, subject: str, content: str) -> str:\n",
    "    \"\"\"Write and send an email.\"\"\"\n",
    "    # Placeholder response - in real app would send email\n",
    "    return f\"Email sent to {to} with subject '{subject}' and content: {content}\""
   ]
  },
  {
   "cell_type": "code",
   "execution_count": 14,
   "id": "c52ec55b-0b60-4b0c-95d4-ff528a64694e",
   "metadata": {},
   "outputs": [
    {
     "data": {
      "text/plain": [
       "langchain_core.tools.structured.StructuredTool"
      ]
     },
     "execution_count": 14,
     "metadata": {},
     "output_type": "execute_result"
    }
   ],
   "source": [
    "type(write_email)"
   ]
  },
  {
   "cell_type": "code",
   "execution_count": 15,
   "id": "23a40647-3d48-4760-aabe-144d627de110",
   "metadata": {},
   "outputs": [
    {
     "data": {
      "text/plain": [
       "{'to': {'title': 'To', 'type': 'string'},\n",
       " 'subject': {'title': 'Subject', 'type': 'string'},\n",
       " 'content': {'title': 'Content', 'type': 'string'}}"
      ]
     },
     "execution_count": 15,
     "metadata": {},
     "output_type": "execute_result"
    }
   ],
   "source": [
    "write_email.args # the tool attributes like arguements and description are automatically infered. "
   ]
  },
  {
   "cell_type": "code",
   "execution_count": 16,
   "id": "abd85ae4-9d4c-4efa-9577-aca96e9f22cd",
   "metadata": {},
   "outputs": [
    {
     "data": {
      "text/html": [
       "<pre style=\"white-space:pre;overflow-x:auto;line-height:normal;font-family:Menlo,'DejaVu Sans Mono',consolas,'Courier New',monospace\">Write and send an email.                                                                                           \n",
       "</pre>\n"
      ],
      "text/plain": [
       "Write and send an email.                                                                                           \n"
      ]
     },
     "execution_count": 16,
     "metadata": {},
     "output_type": "execute_result"
    }
   ],
   "source": [
    "Markdown(write_email.description)"
   ]
  },
  {
   "cell_type": "markdown",
   "id": "c8a6b427",
   "metadata": {},
   "source": [
    "## Tool Calling\n",
    "\n",
    "Tools can be [called](https://python.langchain.com/docs/concepts/tool_calling/) by LLMs. When a tool is bound to the model, the model can choose to call the tool by returning a structured output with tool arguments. We use the `bind_tools` method to augment an LLM with tools.\n",
    "\n",
    "![tool-img](img/tool_call_detail.png)\n",
    "\n",
    "Providers often have [parameters such as `tool_choice`](https://python.langchain.com/docs/how_to/tool_choice/) to enforce calling specific tools. `any` will select at least one of the tools.\n",
    "\n",
    "In addition, we can [set `parallel_tool_calls=False`](https://python.langchain.com/docs/how_to/tool_calling_parallel/) to ensure the model will only call one tool at a time."
   ]
  },
  {
   "cell_type": "code",
   "execution_count": 17,
   "id": "bfa57bc4",
   "metadata": {},
   "outputs": [],
   "source": [
    "# Connect tools to a chat model\n",
    "model_with_tools = llm.bind_tools([write_email], tool_choice=\"any\", parallel_tool_calls=False)\n",
    "\n",
    "#bind tools method allows us to pass a list of tools and some parameters\n",
    "\n",
    "# The model will now be able to call tools\n",
    "output = model_with_tools.invoke(\"Draft a response to my boss (boss@company.ai) about tomorrow's meeting\") # is this is point the llm chooses it's tool and decides it needs to use `write_email` tool. The object it returns is the instructions for calling the tool but doesn't actually call it. "
   ]
  },
  {
   "cell_type": "code",
   "execution_count": 18,
   "id": "7985eab6-9e6b-4fa5-8027-52d32886b97e",
   "metadata": {},
   "outputs": [
    {
     "data": {
      "text/plain": [
       "langchain_core.messages.ai.AIMessage"
      ]
     },
     "execution_count": 18,
     "metadata": {},
     "output_type": "execute_result"
    }
   ],
   "source": [
    "type(output)"
   ]
  },
  {
   "cell_type": "code",
   "execution_count": 19,
   "id": "ea0ce030-e760-4679-838f-d88d1480664e",
   "metadata": {},
   "outputs": [
    {
     "data": {
      "text/plain": [
       "AIMessage(content='', additional_kwargs={'tool_calls': [{'id': 'call_u6Dgkm6kmO6ebMSuDSPYC6SD', 'function': {'arguments': '{\"to\":\"boss@company.ai\",\"subject\":\"Re: Tomorrow\\'s Meeting\",\"content\":\"Dear [Boss\\'s Name],\\\\n\\\\nThank you for the reminder about tomorrow\\'s meeting. I confirm my attendance and look forward to discussing the agenda items. Please let me know if there is anything specific you would like me to prepare or bring to the meeting.\\\\n\\\\nBest regards,\\\\n[Your Name]\"}', 'name': 'write_email'}, 'type': 'function'}], 'refusal': None}, response_metadata={'token_usage': {'completion_tokens': 91, 'prompt_tokens': 67, 'total_tokens': 158, 'completion_tokens_details': {'accepted_prediction_tokens': 0, 'audio_tokens': 0, 'reasoning_tokens': 0, 'rejected_prediction_tokens': 0}, 'prompt_tokens_details': {'audio_tokens': 0, 'cached_tokens': 0}}, 'model_name': 'gpt-4.1-2025-04-14', 'system_fingerprint': 'fp_51e1070cf2', 'id': 'chatcmpl-BnNTrbS5Mk3pP4c5xbpQYzI0rhxIx', 'service_tier': 'default', 'finish_reason': 'tool_calls', 'logprobs': None}, id='run--0649203d-5dc7-47f7-9f2e-09baa576ee13-0', tool_calls=[{'name': 'write_email', 'args': {'to': 'boss@company.ai', 'subject': \"Re: Tomorrow's Meeting\", 'content': \"Dear [Boss's Name],\\n\\nThank you for the reminder about tomorrow's meeting. I confirm my attendance and look forward to discussing the agenda items. Please let me know if there is anything specific you would like me to prepare or bring to the meeting.\\n\\nBest regards,\\n[Your Name]\"}, 'id': 'call_u6Dgkm6kmO6ebMSuDSPYC6SD', 'type': 'tool_call'}], usage_metadata={'input_tokens': 67, 'output_tokens': 91, 'total_tokens': 158, 'input_token_details': {'audio': 0, 'cache_read': 0}, 'output_token_details': {'audio': 0, 'reasoning': 0}})"
      ]
     },
     "execution_count": 19,
     "metadata": {},
     "output_type": "execute_result"
    }
   ],
   "source": [
    "output"
   ]
  },
  {
   "cell_type": "code",
   "execution_count": 20,
   "id": "f1a240ec",
   "metadata": {},
   "outputs": [
    {
     "name": "stdout",
     "output_type": "stream",
     "text": [
      "=== AI Message Output ===\n",
      "Content: \n",
      "Additional kwargs:\n",
      "{'refusal': None,\n",
      " 'tool_calls': [{'function': {'arguments': '{\"to\":\"boss@company.ai\",\"subject\":\"Re: Tomorrow\\'s '\n",
      "                                           'Meeting\",\"content\":\"Dear [Boss\\'s Name],\\\\n\\\\nThank '\n",
      "                                           \"you for the reminder about tomorrow's meeting. I \"\n",
      "                                           'confirm my attendance and look forward to discussing '\n",
      "                                           'the agenda items. Please let me know if there is '\n",
      "                                           'anything specific you would like me to prepare or '\n",
      "                                           'bring to the meeting.\\\\n\\\\nBest regards,\\\\n[Your '\n",
      "                                           'Name]\"}',\n",
      "                              'name': 'write_email'},\n",
      "                 'id': 'call_u6Dgkm6kmO6ebMSuDSPYC6SD',\n",
      "                 'type': 'function'}]}\n",
      "\n",
      "Tool calls:\n",
      "  1. Function: Unknown\n",
      "     Arguments: {}\n"
     ]
    }
   ],
   "source": [
    "import pprint\n",
    "\n",
    "\n",
    "\n",
    "print(\"=== AI Message Output ===\")\n",
    "print(f\"Content: {output.content}\")\n",
    "print(f\"Additional kwargs:\")\n",
    "pprint.pprint(output.additional_kwargs, width=100)\n",
    "\n",
    "# If you want to see tool calls specifically\n",
    "if output.tool_calls:\n",
    "    print(\"\\nTool calls:\")\n",
    "    for i, tool_call in enumerate(output.tool_calls, 1):\n",
    "        print(f\"  {i}. Function: {tool_call.get('function', {}).get('name', 'Unknown')}\")\n",
    "        print(f\"     Arguments: {tool_call.get('function', {}).get('arguments', {})}\")"
   ]
  },
  {
   "cell_type": "code",
   "execution_count": 21,
   "id": "68b1a9de",
   "metadata": {},
   "outputs": [
    {
     "data": {
      "text/plain": [
       "{'name': 'write_email',\n",
       " 'args': {'to': 'boss@company.ai',\n",
       "  'subject': \"Re: Tomorrow's Meeting\",\n",
       "  'content': \"Dear [Boss's Name],\\n\\nThank you for the reminder about tomorrow's meeting. I confirm my attendance and look forward to discussing the agenda items. Please let me know if there is anything specific you would like me to prepare or bring to the meeting.\\n\\nBest regards,\\n[Your Name]\"},\n",
       " 'id': 'call_u6Dgkm6kmO6ebMSuDSPYC6SD',\n",
       " 'type': 'tool_call'}"
      ]
     },
     "execution_count": 21,
     "metadata": {},
     "output_type": "execute_result"
    }
   ],
   "source": [
    "output.tool_calls[0] # list of tools the llm wants to call. in this case it's write_email tool "
   ]
  },
  {
   "cell_type": "code",
   "execution_count": 22,
   "id": "717779cb",
   "metadata": {},
   "outputs": [
    {
     "data": {
      "text/plain": [
       "{'to': 'boss@company.ai',\n",
       " 'subject': \"Re: Tomorrow's Meeting\",\n",
       " 'content': \"Dear [Boss's Name],\\n\\nThank you for the reminder about tomorrow's meeting. I confirm my attendance and look forward to discussing the agenda items. Please let me know if there is anything specific you would like me to prepare or bring to the meeting.\\n\\nBest regards,\\n[Your Name]\"}"
      ]
     },
     "execution_count": 22,
     "metadata": {},
     "output_type": "execute_result"
    }
   ],
   "source": [
    "# Extract tool calls and execute them\n",
    "args = output.tool_calls[0]['args'] # extracts the arguments the LLM wants to use. \n",
    "args"
   ]
  },
  {
   "cell_type": "code",
   "execution_count": 23,
   "id": "09f85694",
   "metadata": {},
   "outputs": [
    {
     "data": {
      "text/html": [
       "<pre style=\"white-space:pre;overflow-x:auto;line-height:normal;font-family:Menlo,'DejaVu Sans Mono',consolas,'Courier New',monospace\">Email sent to boss@company.ai with subject 'Re: Tomorrow's Meeting' and content: Dear [Boss's Name],               \n",
       "\n",
       "Thank you for the reminder about tomorrow's meeting. I confirm my attendance and look forward to discussing the    \n",
       "agenda items. Please let me know if there is anything specific you would like me to prepare or bring to the        \n",
       "meeting.                                                                                                           \n",
       "\n",
       "Best regards, [Your Name]                                                                                          \n",
       "</pre>\n"
      ],
      "text/plain": [
       "Email sent to boss@company.ai with subject 'Re: Tomorrow's Meeting' and content: Dear [Boss's Name],               \n",
       "\n",
       "Thank you for the reminder about tomorrow's meeting. I confirm my attendance and look forward to discussing the    \n",
       "agenda items. Please let me know if there is anything specific you would like me to prepare or bring to the        \n",
       "meeting.                                                                                                           \n",
       "\n",
       "Best regards, [Your Name]                                                                                          \n"
      ]
     },
     "execution_count": 23,
     "metadata": {},
     "output_type": "execute_result"
    }
   ],
   "source": [
    "# Call the tool\n",
    "result = write_email.invoke(args)\n",
    "Markdown(result)"
   ]
  },
  {
   "cell_type": "markdown",
   "id": "734ed7f0",
   "metadata": {},
   "source": [
    "while not done:  \n",
    "    1. LLM decides what to do  \n",
    "    2. Execute tools (if any)  \n",
    "    3. Add results to conversation  \n",
    "    4. Repeat until final answer  "
   ]
  },
  {
   "cell_type": "markdown",
   "id": "b6f9c52a",
   "metadata": {},
   "source": [
    "![basic_prompt](img/tool_call.png)\n",
    "\n",
    "## Workflows\n",
    " \n",
    "There are many patterns for building applications with LLMs. \n",
    "\n",
    "[We can embed LLM calls into pre-defined workflows](https://langchain-ai.github.io/langgraph/tutorials/workflows/), giving the system more agency to make decisions. \n",
    "\n",
    "As an example, we could add a router step to determine whether to write an email or not.\n",
    "\n",
    "![workflow_example](img/workflow_example.png)\n",
    "\n",
    "## Agents\n",
    "\n",
    "We can further increase agency, allowing the LLM to dynamically direct its own tool usage. \n",
    "\n",
    "[Agents](https://langchain-ai.github.io/langgraph/tutorials/workflows/) are typically implemented as tool calling in a loop, where the output of each tool call is used to inform the next action.\n",
    "\n",
    "![agent_example](img/agent_example.png)\n",
    "\n",
    "Agents are well suited to open-ended problems where it's difficult to predict the *exact* steps needed in advance.\n",
    " \n",
    "Workflows are often appropriate when the control flow can easily be defined in advance. \n",
    "\n",
    "![workflow_v_agent](img/workflow_v_agent.png)\n",
    "\n",
    "## What is LangGraph? \n",
    "\n",
    "[LangGraph](https://langchain-ai.github.io/langgraph/concepts/high_level/) provides low-level supporting infrastructure that sits underneath *any* workflow or agent. \n",
    "\n",
    "It does not abstract prompts or architecture, and provides a few benefits:\n",
    "\n",
    "- **Control**: Make it easy to define and / or combine agents and workflows.\n",
    "- **Persistence**: Provide a way to persist the state of a graph, which enables both memory and human-in-the-loop.\n",
    "- **Testing, Debugging, and Deployment**: Provide an easy onramp for testing, debugging, and deploying applications.\n",
    "\n",
    "### Control\n",
    "\n",
    "LangGraph lets you define your application as a graph with:\n",
    "\n",
    "1. *State*: What information do we need to track over the course of the application?\n",
    "2. *Nodes*: How do we want to update this information over the course of the application?\n",
    "3. *Edges*: How do we want to connect these nodes together?\n",
    "\n",
    "We can use the [`StateGraph` class](https://langchain-ai.github.io/langgraph/concepts/low_level/#graphs) to initialize a LangGraph graph with a [`State` object](https://langchain-ai.github.io/langgraph/concepts/low_level/#state).\n",
    "\n",
    "`State` defines the schema for information we want to track over the course of the application. \n",
    "\n",
    "This can be any object with `getattr()` in python, such as a dictionary, dataclass, or Pydantic object: \n",
    "\n",
    "- TypeDict is fastest but doesn’t support defaults\n",
    "- Dataclass is basically as fast, supports dot syntax `state.foo`, and has defaults. \n",
    "- Pydantic is slower (especially with custom validators) but gives type validation."
   ]
  },
  {
   "cell_type": "markdown",
   "id": "b84bedb9",
   "metadata": {},
   "source": [
    "Each node is simply a python function or typescript code. This gives us full control over the logic inside each node.\n",
    "\n",
    "They receive the current state, and return a dictionary to update the state.\n",
    "\n",
    "By default, [state keys are overwritten](https://langchain-ai.github.io/langgraph/how-tos/state-reducers/). \n",
    "\n",
    "However, you can [define custom update logic](https://langchain-ai.github.io/langgraph/concepts/low_level/#reducers). \n",
    "\n",
    "![nodes_edges](img/nodes_edges.png)"
   ]
  },
  {
   "cell_type": "markdown",
   "id": "8da35cb4",
   "metadata": {},
   "source": [
    "Core Concepts You'll Learn:\n",
    "\n",
    "State - What information to track (like conversation history, user preferences)  \n",
    "Nodes - Functions that update the state (LLM calls, tool executions)  \n",
    "Edges - How nodes connect (conditional logic, loops)  "
   ]
  },
  {
   "cell_type": "code",
   "execution_count": 24,
   "id": "3319290a",
   "metadata": {},
   "outputs": [],
   "source": [
    "from typing import TypedDict\n",
    "from langgraph.graph import StateGraph, START, END\n",
    "\n",
    "class StateSchema(TypedDict): #building a workflow that tracks request and email data\n",
    "    request: str\n",
    "    email: str\n",
    "\n",
    "workflow = StateGraph(StateSchema) # initialise the state graph with our custom scheme"
   ]
  },
  {
   "cell_type": "code",
   "execution_count": 25,
   "id": "a39c043b",
   "metadata": {},
   "outputs": [
    {
     "data": {
      "text/plain": [
       "<langgraph.channels.last_value.LastValue at 0x17d3e612500>"
      ]
     },
     "execution_count": 25,
     "metadata": {},
     "output_type": "execute_result"
    }
   ],
   "source": [
    "workflow.schemas[StateSchema][\"request\"]"
   ]
  },
  {
   "cell_type": "code",
   "execution_count": 26,
   "id": "d5e79c1f",
   "metadata": {},
   "outputs": [],
   "source": [
    "from langchain.tools import tool\n",
    "\n",
    "@tool # using the tool decorator allows us to create tools easily\n",
    "def write_email(to: str, subject: str, content: str) -> str:\n",
    "    \"\"\"Write and send an email.\"\"\"\n",
    "    # Placeholder response - in real app would send email\n",
    "    return f\"Email sent to {to} with subject '{subject}' and content: {content}\"\n",
    "\n",
    "\n",
    "\n",
    "def write_email_node(state: StateSchema) -> StateSchema: #creation of node \n",
    "    # Imperative code that processes the request\n",
    "    output = model_with_tools.invoke(state[\"request\"])\n",
    "    args = output.tool_calls[0]['args']\n",
    "    email = write_email.invoke(args)\n",
    "    return {\"email\": email} # this function returns a dictionary with updates state data\n",
    "\n",
    "# state is the current data in the graph. It's a dictionary with `request` and email keys. As defined above"
   ]
  },
  {
   "cell_type": "markdown",
   "id": "94acfe30",
   "metadata": {},
   "source": [
    "This function:\n",
    "\n",
    "Takes current state as input  \n",
    "Processes it (calls LLM + tools)  \n",
    "Returns updated state  "
   ]
  },
  {
   "cell_type": "markdown",
   "id": "737c8040",
   "metadata": {},
   "source": [
    "Edges connect nodes together. \n",
    "\n",
    "We specify the control flow by adding edges and nodes to our state graph. "
   ]
  },
  {
   "cell_type": "code",
   "execution_count": 33,
   "id": "554e0d8b",
   "metadata": {},
   "outputs": [],
   "source": [
    "workflow = StateGraph(StateSchema)\n",
    "workflow.add_node(\"write_email_node\", write_email_node) # converts/registers the function into/as a node.  workflow.add_node(node_name,function_name)\n",
    "workflow.add_edge(START, \"write_email_node\") # START flows to this node\n",
    "workflow.add_edge(\"write_email_node\", END) #This node flows to end\n",
    "\n",
    "#Execution engine: runs the graph\n",
    "app = workflow.compile()"
   ]
  },
  {
   "cell_type": "code",
   "execution_count": 35,
   "id": "72157836",
   "metadata": {},
   "outputs": [
    {
     "data": {
      "image/png": "[encoded data removed]",
      "text/plain": [
       "<IPython.core.display.Image object>"
      ]
     },
     "execution_count": 35,
     "metadata": {},
     "output_type": "execute_result"
    }
   ],
   "source": [
    "show_graph(app)"
   ]
  },
  {
   "cell_type": "code",
   "execution_count": 28,
   "id": "7cc79b40",
   "metadata": {},
   "outputs": [
    {
     "data": {
      "text/plain": [
       "{'request': \"Draft a response to my boss (boss@company.ai) about tomorrow's meeting\",\n",
       " 'email': \"Email sent to boss@company.ai with subject 'Re: Tomorrow's Meeting' and content: Dear [Boss's Name],\\n\\nThank you for the reminder about tomorrow's meeting. I confirm my attendance and will be prepared with the necessary updates and materials.\\n\\nPlease let me know if there are any specific topics you would like me to address or if there are any changes to the agenda.\\n\\nLooking forward to our discussion.\\n\\nBest regards,\\n[Your Name]\"}"
      ]
     },
     "execution_count": 28,
     "metadata": {},
     "output_type": "execute_result"
    }
   ],
   "source": [
    "app.invoke({\"request\": \"Draft a response to my boss (boss@company.ai) about tomorrow's meeting\"}) # pass an inital value to our state here "
   ]
  },
  {
   "cell_type": "markdown",
   "id": "2446dea9",
   "metadata": {},
   "source": [
    "Routing between nodes can be done [conditionally](https://langchain-ai.github.io/langgraph/concepts/low_level/#conditional-edges) using a simple function. \n",
    "\n",
    "The return value of this function is used as the name of the node (or list of nodes) to send the state to next. \n",
    "\n",
    "You can optionally provide a dictionary that maps the `should_continue` output to the name of the next node."
   ]
  },
  {
   "cell_type": "code",
   "execution_count": 37,
   "id": "f29b05bf",
   "metadata": {},
   "outputs": [],
   "source": [
    "from typing import Literal\n",
    "from langgraph.graph import MessagesState\n",
    "from email_assistant.utils import show_graph\n",
    "\n",
    "def call_llm(state: MessagesState) -> MessagesState:\n",
    "    \"\"\"Run LLM\"\"\"\n",
    "\n",
    "    output = model_with_tools.invoke(state[\"messages\"])\n",
    "    return {\"messages\": [output]} # append to the list of messages instead of overwriting\n",
    "\n",
    "def run_tool(state: MessagesState):\n",
    "    \"\"\"Performs the tool call\"\"\"\n",
    "\n",
    "    result = []\n",
    "    for tool_call in state[\"messages\"][-1].tool_calls:\n",
    "        observation = write_email.invoke(tool_call[\"args\"])\n",
    "        result.append({\"role\": \"tool\", \"content\": observation, \"tool_call_id\": tool_call[\"id\"]})\n",
    "    return {\"messages\": result}\n",
    "\n",
    "def should_continue(state: MessagesState) -> Literal[\"run_tool\", \"__end__\"]:#\n",
    "    \"\"\" This is a conditional edge with returns the name of the next node you want to go to\"\"\"\n",
    "    \"\"\"Route to tool handler, or end if Done tool called\"\"\"\n",
    "    \n",
    "    # Get the last message\n",
    "    messages = state[\"messages\"] #list of messages\n",
    "    last_message = messages[-1]\n",
    "    \n",
    "    # If the last message is a tool call, check if it's a Done tool call\n",
    "    if last_message.tool_calls: #check if last message is a tool call \n",
    "        return \"run_tool\" #return the name of the next node to go to 'run_tool'\n",
    "    # Otherwise, we stop (reply to the user)\n",
    "    return END\n",
    "\n",
    "workflow = StateGraph(MessagesState) #MessageState is a pre-built state object in LangGraph with a single key, messages\n",
    "workflow.add_node(\"call_llm\", call_llm)\n",
    "workflow.add_node(\"run_tool\", run_tool)\n",
    "workflow.add_edge(START, \"call_llm\")\n",
    "workflow.add_conditional_edges(\"call_llm\", should_continue, {\"run_tool\": \"run_tool\", END: END}) #if the agent is making a tool call we run it, if not we exit the agent and end the loop\n",
    "workflow.add_edge(\"run_tool\", END)\n",
    "\n",
    "# Run the workflow\n",
    "app = workflow.compile()"
   ]
  },
  {
   "cell_type": "code",
   "execution_count": 38,
   "id": "fd9f07af-c633-4527-b2d9-52c6451dc9c5",
   "metadata": {},
   "outputs": [
    {
     "data": {
      "image/png": "[encoded data removed]",
      "text/plain": [
       "<IPython.core.display.Image object>"
      ]
     },
     "execution_count": 38,
     "metadata": {},
     "output_type": "execute_result"
    }
   ],
   "source": [
    "show_graph(app)"
   ]
  },
  {
   "cell_type": "code",
   "execution_count": 31,
   "id": "dadbafde",
   "metadata": {},
   "outputs": [
    {
     "name": "stdout",
     "output_type": "stream",
     "text": [
      "================================\u001b[1m Human Message \u001b[0m=================================\n",
      "\n",
      "Draft a response to my boss (boss@company.ai) confirming that I want to attend Interrupt!\n",
      "==================================\u001b[1m Ai Message \u001b[0m==================================\n",
      "Tool Calls:\n",
      "  write_email (call_uO5uKVaeSDgdPaOPqKzogOUD)\n",
      " Call ID: call_uO5uKVaeSDgdPaOPqKzogOUD\n",
      "  Args:\n",
      "    to: boss@company.ai\n",
      "    subject: Confirmation: Attendance at Interrupt!\n",
      "    content: Hi,\n",
      "\n",
      "Thank you for letting me know about Interrupt! I would like to confirm that I am interested in attending the event.\n",
      "\n",
      "Please let me know if there are any next steps or additional details I should be aware of.\n",
      "\n",
      "Best regards,\n",
      "\n",
      "[Your Name]\n",
      "=================================\u001b[1m Tool Message \u001b[0m=================================\n",
      "\n",
      "Email sent to boss@company.ai with subject 'Confirmation: Attendance at Interrupt!' and content: Hi,\n",
      "\n",
      "Thank you for letting me know about Interrupt! I would like to confirm that I am interested in attending the event.\n",
      "\n",
      "Please let me know if there are any next steps or additional details I should be aware of.\n",
      "\n",
      "Best regards,\n",
      "\n",
      "[Your Name]\n"
     ]
    }
   ],
   "source": [
    "result = app.invoke({\"messages\": [{\"role\": \"user\", \"content\": \"Draft a response to my boss (boss@company.ai) confirming that I want to attend Interrupt!\"}]})\n",
    "for m in result[\"messages\"]:\n",
    "    m.pretty_print()"
   ]
  },
  {
   "cell_type": "markdown",
   "id": "a78b232d",
   "metadata": {},
   "source": [
    "With these low level components, you can build many many different workflows and agents. See [this tutorial](https://langchain-ai.github.io/langgraph/tutorials/workflows/)!\n",
    "\n",
    "Because agents are such a common pattern, [LangGraph](https://langchain-ai.github.io/langgraph/tutorials/workflows/#pre-built) has [a pre-built agent](https://langchain-ai.github.io/langgraph/agents/overview/?ref=blog.langchain.dev#what-is-an-agent) abstraction.\n",
    "\n",
    "With LangGraph's [pre-built method](https://langchain-ai.github.io/langgraph/tutorials/workflows/#pre-built), we just pass in the LLM, tools, and prompt. "
   ]
  },
  {
   "cell_type": "code",
   "execution_count": 32,
   "id": "5a317ad8",
   "metadata": {},
   "outputs": [
    {
     "name": "stdout",
     "output_type": "stream",
     "text": [
      "================================\u001b[1m Human Message \u001b[0m=================================\n",
      "\n",
      "Draft a response to my boss (boss@company.ai) confirming that I want to attend Interrupt!\n",
      "==================================\u001b[1m Ai Message \u001b[0m==================================\n",
      "Tool Calls:\n",
      "  write_email (call_3cwt26mLSZLmLpiQhr5VbYua)\n",
      " Call ID: call_3cwt26mLSZLmLpiQhr5VbYua\n",
      "  Args:\n",
      "    to: boss@company.ai\n",
      "    subject: Confirmation: Attendance at Interrupt!\n",
      "    content: Hi,\n",
      "\n",
      "Thank you for letting me know about Interrupt! I would like to confirm that I am interested in attending the event.\n",
      "\n",
      "Please let me know if there are any next steps or additional details I should be aware of.\n",
      "\n",
      "Best regards,\n",
      "\n",
      "[Your Name]\n",
      "=================================\u001b[1m Tool Message \u001b[0m=================================\n",
      "Name: write_email\n",
      "\n",
      "Email sent to boss@company.ai with subject 'Confirmation: Attendance at Interrupt!' and content: Hi,\n",
      "\n",
      "Thank you for letting me know about Interrupt! I would like to confirm that I am interested in attending the event.\n",
      "\n",
      "Please let me know if there are any next steps or additional details I should be aware of.\n",
      "\n",
      "Best regards,\n",
      "\n",
      "[Your Name]\n",
      "==================================\u001b[1m Ai Message \u001b[0m==================================\n",
      "\n",
      "I've drafted and sent a response to your boss confirming your interest in attending Interrupt! If you need to make any changes or add more details, let me know.\n"
     ]
    }
   ],
   "source": [
    "from langgraph.prebuilt import create_react_agent\n",
    "\n",
    "agent = create_react_agent(\n",
    "    model=llm,\n",
    "    tools=[write_email],\n",
    "    prompt=\"Respond to the user's request using the tools provided.\"  \n",
    ")\n",
    "\n",
    "# Run the agent\n",
    "result = agent.invoke(\n",
    "    {\"messages\": [{\"role\": \"user\", \"content\": \"Draft a response to my boss (boss@company.ai) confirming that I want to attend Interrupt!\"}]}\n",
    ")\n",
    "\n",
    "for m in result[\"messages\"]:\n",
    "    m.pretty_print()"
   ]
  },
  {
   "cell_type": "markdown",
   "id": "3c6e506f",
   "metadata": {},
   "source": [
    "### Persistence\n",
    "\n",
    "#### Threads\n",
    "\n",
    "It can be very useful to allow agents to pause during long running tasks.\n",
    "\n",
    "LangGraph has a built-in persistence layer, implemented through checkpointers, to enable this. \n",
    "\n",
    "When you compile graph with a checkpointer, the checkpointer saves a [checkpoint](https://langchain-ai.github.io/langgraph/concepts/persistence/#checkpoints) of the graph state at every step. \n",
    "\n",
    "Checkpoints are saved to a thread, which can be accessed after graph execution completes.\n",
    "\n",
    "![checkpointer](img/checkpoints.png)\n",
    "\n",
    "We compile the graph with a [checkpointer](https://langchain-ai.github.io/langgraph/concepts/persistence/#checkpointer-libraries).\n"
   ]
  },
  {
   "cell_type": "code",
   "execution_count": 39,
   "id": "9a72377e",
   "metadata": {},
   "outputs": [],
   "source": [
    "from langgraph.checkpoint.memory import InMemorySaver\n",
    "\n",
    "agent = create_react_agent(\n",
    "    model=llm,\n",
    "    tools=[write_email],\n",
    "    prompt=\"Respond to the user's request using the tools provided.\",\n",
    "    checkpointer=InMemorySaver()\n",
    ")\n",
    "\n",
    "config = {\"configurable\": {\"thread_id\": \"1\"}}\n",
    "result = agent.invoke({\"messages\": [{\"role\": \"user\", \"content\": \"What are some good practices for writing emails?\"}]}, config)\n",
    "                    "
   ]
  },
  {
   "cell_type": "code",
   "execution_count": 40,
   "id": "10984007",
   "metadata": {},
   "outputs": [
    {
     "name": "stdout",
     "output_type": "stream",
     "text": [
      "================================\u001b[1m Human Message \u001b[0m=================================\n",
      "\n",
      "What are some good practices for writing emails?\n",
      "==================================\u001b[1m Ai Message \u001b[0m==================================\n",
      "\n",
      "Here are some good practices for writing effective emails:\n",
      "\n",
      "1. **Use a Clear Subject Line:** Make your subject concise and informative so the recipient knows what to expect.\n",
      "\n",
      "2. **Greet Appropriately:** Start with a polite greeting, such as “Hello [Name],” or “Dear [Name],” depending on the formality.\n",
      "\n",
      "3. **Be Concise and Direct:** Get to the point quickly. Use short paragraphs and avoid unnecessary details.\n",
      "\n",
      "4. **Use Proper Grammar and Spelling:** Proofread your email to ensure it is free of errors.\n",
      "\n",
      "5. **Be Polite and Professional:** Use courteous language and maintain a professional tone, even if the email is informal.\n",
      "\n",
      "6. **Structure Your Email:** Use paragraphs, bullet points, or numbered lists to organize information clearly.\n",
      "\n",
      "7. **State Your Purpose Early:** Let the recipient know why you are writing within the first few sentences.\n",
      "\n",
      "8. **Include a Call to Action:** If you need a response or action, state it clearly.\n",
      "\n",
      "9. **Sign Off Properly:** End with a polite closing, such as “Best regards,” “Sincerely,” or “Thank you,” followed by your name.\n",
      "\n",
      "10. **Use a Professional Signature:** Include your contact information and job title if appropriate.\n",
      "\n",
      "11. **Be Mindful of Tone:** Avoid using all caps (which can seem like shouting) and be careful with humor or sarcasm, as it can be misinterpreted.\n",
      "\n",
      "12. **Reply Promptly:** Respond to emails in a timely manner, ideally within 24 hours.\n",
      "\n",
      "Would you like tips for a specific type of email (e.g., business, networking, follow-up)?\n"
     ]
    }
   ],
   "source": [
    "# Get the latest state snapshot\n",
    "config = {\"configurable\": {\"thread_id\": \"1\"}}\n",
    "state = agent.get_state(config)\n",
    "for message in state.values['messages']:\n",
    "    message.pretty_print()"
   ]
  },
  {
   "cell_type": "code",
   "execution_count": 41,
   "id": "7f23ac58",
   "metadata": {},
   "outputs": [
    {
     "name": "stdout",
     "output_type": "stream",
     "text": [
      "================================\u001b[1m Human Message \u001b[0m=================================\n",
      "\n",
      "What are some good practices for writing emails?\n",
      "==================================\u001b[1m Ai Message \u001b[0m==================================\n",
      "\n",
      "Here are some good practices for writing effective emails:\n",
      "\n",
      "1. **Use a Clear Subject Line:** Make your subject concise and informative so the recipient knows what to expect.\n",
      "\n",
      "2. **Greet Appropriately:** Start with a polite greeting, such as “Hello [Name],” or “Dear [Name],” depending on the formality.\n",
      "\n",
      "3. **Be Concise and Direct:** Get to the point quickly. Use short paragraphs and avoid unnecessary details.\n",
      "\n",
      "4. **Use Proper Grammar and Spelling:** Proofread your email to ensure it is free of errors.\n",
      "\n",
      "5. **Be Polite and Professional:** Use courteous language and maintain a professional tone, even if the email is informal.\n",
      "\n",
      "6. **Structure Your Email:** Use paragraphs, bullet points, or numbered lists to organize information clearly.\n",
      "\n",
      "7. **State Your Purpose Early:** Let the recipient know why you are writing within the first few sentences.\n",
      "\n",
      "8. **Include a Call to Action:** If you need a response or action, state it clearly.\n",
      "\n",
      "9. **Sign Off Properly:** End with a polite closing, such as “Best regards,” “Sincerely,” or “Thank you,” followed by your name.\n",
      "\n",
      "10. **Use a Professional Signature:** Include your contact information and job title if appropriate.\n",
      "\n",
      "11. **Be Mindful of Tone:** Avoid using all caps (which can seem like shouting) and be careful with humor or sarcasm, as it can be misinterpreted.\n",
      "\n",
      "12. **Reply Promptly:** Respond to emails in a timely manner, ideally within 24 hours.\n",
      "\n",
      "Would you like tips for a specific type of email (e.g., business, networking, follow-up)?\n",
      "================================\u001b[1m Human Message \u001b[0m=================================\n",
      "\n",
      "Good, let's use lesson 3 to craft a response to my boss confirming that I want to attend Interrupt\n",
      "==================================\u001b[1m Ai Message \u001b[0m==================================\n",
      "\n",
      "Certainly! Here’s a concise and direct email response to your boss, confirming your interest in attending Interrupt, following lesson 3:\n",
      "\n",
      "---\n",
      "\n",
      "**Subject:** Confirmation: Attendance at Interrupt\n",
      "\n",
      "Hello [Boss’s Name],\n",
      "\n",
      "Thank you for the opportunity. I would like to confirm that I am interested in attending Interrupt.\n",
      "\n",
      "Please let me know if there are any next steps or additional information you need from me.\n",
      "\n",
      "Best regards,  \n",
      "[Your Name]\n",
      "\n",
      "---\n",
      "\n",
      "Would you like me to send this email for you? If so, please provide your boss’s email address.\n"
     ]
    }
   ],
   "source": [
    "# Continue the conversation\n",
    "result = agent.invoke({\"messages\": [{\"role\": \"user\", \"content\": \"Good, let's use lesson 3 to craft a response to my boss confirming that I want to attend Interrupt\"}]}, config)\n",
    "for m in result['messages']:\n",
    "    m.pretty_print()"
   ]
  },
  {
   "cell_type": "code",
   "execution_count": 42,
   "id": "5f09fe50",
   "metadata": {},
   "outputs": [
    {
     "name": "stdout",
     "output_type": "stream",
     "text": [
      "================================\u001b[1m Human Message \u001b[0m=================================\n",
      "\n",
      "What are some good practices for writing emails?\n",
      "==================================\u001b[1m Ai Message \u001b[0m==================================\n",
      "\n",
      "Here are some good practices for writing effective emails:\n",
      "\n",
      "1. **Use a Clear Subject Line:** Make your subject concise and informative so the recipient knows what to expect.\n",
      "\n",
      "2. **Greet Appropriately:** Start with a polite greeting, such as “Hello [Name],” or “Dear [Name],” depending on the formality.\n",
      "\n",
      "3. **Be Concise and Direct:** Get to the point quickly. Use short paragraphs and avoid unnecessary details.\n",
      "\n",
      "4. **Use Proper Grammar and Spelling:** Proofread your email to ensure it is free of errors.\n",
      "\n",
      "5. **Be Polite and Professional:** Use courteous language and maintain a professional tone, even if the email is informal.\n",
      "\n",
      "6. **Structure Your Email:** Use paragraphs, bullet points, or numbered lists to organize information clearly.\n",
      "\n",
      "7. **State Your Purpose Early:** Let the recipient know why you are writing within the first few sentences.\n",
      "\n",
      "8. **Include a Call to Action:** If you need a response or action, state it clearly.\n",
      "\n",
      "9. **Sign Off Properly:** End with a polite closing, such as “Best regards,” “Sincerely,” or “Thank you,” followed by your name.\n",
      "\n",
      "10. **Use a Professional Signature:** Include your contact information and job title if appropriate.\n",
      "\n",
      "11. **Be Mindful of Tone:** Avoid using all caps (which can seem like shouting) and be careful with humor or sarcasm, as it can be misinterpreted.\n",
      "\n",
      "12. **Reply Promptly:** Respond to emails in a timely manner, ideally within 24 hours.\n",
      "\n",
      "Would you like tips for a specific type of email (e.g., business, networking, follow-up)?\n",
      "================================\u001b[1m Human Message \u001b[0m=================================\n",
      "\n",
      "Good, let's use lesson 3 to craft a response to my boss confirming that I want to attend Interrupt\n",
      "==================================\u001b[1m Ai Message \u001b[0m==================================\n",
      "\n",
      "Certainly! Here’s a concise and direct email response to your boss, confirming your interest in attending Interrupt, following lesson 3:\n",
      "\n",
      "---\n",
      "\n",
      "**Subject:** Confirmation: Attendance at Interrupt\n",
      "\n",
      "Hello [Boss’s Name],\n",
      "\n",
      "Thank you for the opportunity. I would like to confirm that I am interested in attending Interrupt.\n",
      "\n",
      "Please let me know if there are any next steps or additional information you need from me.\n",
      "\n",
      "Best regards,  \n",
      "[Your Name]\n",
      "\n",
      "---\n",
      "\n",
      "Would you like me to send this email for you? If so, please provide your boss’s email address.\n",
      "================================\u001b[1m Human Message \u001b[0m=================================\n",
      "\n",
      "I like this, let's write the email to boss@company.ai\n",
      "==================================\u001b[1m Ai Message \u001b[0m==================================\n",
      "Tool Calls:\n",
      "  write_email (call_PCdl6VMUhchpwYMwFZsOkg1k)\n",
      " Call ID: call_PCdl6VMUhchpwYMwFZsOkg1k\n",
      "  Args:\n",
      "    to: boss@company.ai\n",
      "    subject: Confirmation: Attendance at Interrupt\n",
      "    content: Hello,\n",
      "\n",
      "Thank you for the opportunity. I would like to confirm that I am interested in attending Interrupt.\n",
      "\n",
      "Please let me know if there are any next steps or additional information you need from me.\n",
      "\n",
      "Best regards,\n",
      "[Your Name]\n",
      "=================================\u001b[1m Tool Message \u001b[0m=================================\n",
      "Name: write_email\n",
      "\n",
      "Email sent to boss@company.ai with subject 'Confirmation: Attendance at Interrupt' and content: Hello,\n",
      "\n",
      "Thank you for the opportunity. I would like to confirm that I am interested in attending Interrupt.\n",
      "\n",
      "Please let me know if there are any next steps or additional information you need from me.\n",
      "\n",
      "Best regards,\n",
      "[Your Name]\n",
      "==================================\u001b[1m Ai Message \u001b[0m==================================\n",
      "\n",
      "The email has been written and sent to boss@company.ai, confirming your interest in attending Interrupt. If you need to customize the message further or send another email, just let me know!\n"
     ]
    }
   ],
   "source": [
    "# Continue the conversation\n",
    "result = agent.invoke({\"messages\": [{\"role\": \"user\", \"content\": \"I like this, let's write the email to boss@company.ai\"}]}, config)\n",
    "for m in result['messages']:\n",
    "    m.pretty_print()"
   ]
  },
  {
   "cell_type": "markdown",
   "id": "4ae8a5d2-cf8a-4465-8d1b-96bb6c6276cf",
   "metadata": {},
   "source": [
    "#### Interrupts\n",
    "\n",
    "In LangGraph, we can also use [interrupts](https://langchain-ai.github.io/langgraph/how-tos/human_in_the_loop/wait-user-input/) to stop graph execution at specific points.\n",
    "\n",
    "Often this is used to collect input from a user and continue execution with collected input."
   ]
  },
  {
   "cell_type": "code",
   "execution_count": 27,
   "id": "52c17b60-9474-49a5-b4a1-583b0dc8bba7",
   "metadata": {},
   "outputs": [],
   "source": [
    "from typing_extensions import TypedDict\n",
    "from langgraph.graph import StateGraph, START, END\n",
    "\n",
    "from langgraph.types import Command, interrupt\n",
    "from langgraph.checkpoint.memory import InMemorySaver\n",
    "\n",
    "class State(TypedDict):\n",
    "    input: str\n",
    "    user_feedback: str\n",
    "\n",
    "def step_1(state):\n",
    "    print(\"---Step 1---\")\n",
    "    pass\n",
    "\n",
    "def human_feedback(state):\n",
    "    print(\"---human_feedback---\")\n",
    "    feedback = interrupt(\"Please provide feedback:\")\n",
    "    return {\"user_feedback\": feedback}\n",
    "\n",
    "def step_3(state):\n",
    "    print(\"---Step 3---\")\n",
    "    pass\n",
    "\n",
    "builder = StateGraph(State)\n",
    "builder.add_node(\"step_1\", step_1)\n",
    "builder.add_node(\"human_feedback\", human_feedback)\n",
    "builder.add_node(\"step_3\", step_3)\n",
    "builder.add_edge(START, \"step_1\")\n",
    "builder.add_edge(\"step_1\", \"human_feedback\")\n",
    "builder.add_edge(\"human_feedback\", \"step_3\")\n",
    "builder.add_edge(\"step_3\", END)\n",
    "\n",
    "# Set up memory\n",
    "memory = InMemorySaver()\n",
    "\n",
    "# Add\n",
    "graph = builder.compile(checkpointer=memory)"
   ]
  },
  {
   "cell_type": "code",
   "execution_count": null,
   "id": "57c94cb7-067c-4bc5-be33-b615d8e5775e",
   "metadata": {
    "scrolled": true
   },
   "outputs": [],
   "source": [
    "show_graph(graph)"
   ]
  },
  {
   "cell_type": "code",
   "execution_count": null,
   "id": "028372b5-88ae-4f13-813d-22430a697f07",
   "metadata": {},
   "outputs": [],
   "source": [
    "# Input\n",
    "initial_input = {\"input\": \"hello world\"}\n",
    "\n",
    "# Thread\n",
    "thread = {\"configurable\": {\"thread_id\": \"1\"}}\n",
    "\n",
    "# Run the graph until the first interruption\n",
    "for event in graph.stream(initial_input, thread, stream_mode=\"updates\"):\n",
    "    print(event)\n",
    "    print(\"\\n\")"
   ]
  },
  {
   "cell_type": "markdown",
   "id": "f142d467-7b4c-4a04-bad5-bf3fbe953b84",
   "metadata": {},
   "source": [
    "To resume from an interrupt, we can use [the `Command` object](https://langchain-ai.github.io/langgraph/how-tos/command/). \n",
    "\n",
    "We'll use it to resume the graph from the interrupted state, passing the value to return from the interrupt call to `resume`. "
   ]
  },
  {
   "cell_type": "code",
   "execution_count": null,
   "id": "d90374d3-65a1-4658-82ee-a16cc2835cf4",
   "metadata": {},
   "outputs": [],
   "source": [
    "# Continue the graph execution\n",
    "for event in graph.stream(\n",
    "    Command(resume=\"go to step 3!\"),\n",
    "    thread,\n",
    "    stream_mode=\"updates\",\n",
    "):\n",
    "    print(event)\n",
    "    print(\"\\n\")"
   ]
  },
  {
   "cell_type": "markdown",
   "id": "8639a518",
   "metadata": {},
   "source": [
    "### Tracing\n",
    "\n",
    "When we are using LangChain or LangGraph, LangSmith logging [will work out of the box](https://docs.smith.langchain.com/observability/how_to_guides/trace_with_langgraph) with the following environment variables set:\n",
    "\n",
    "```\n",
    "export LANGSMITH_TRACING=true\n",
    "export LANGSMITH_API_KEY=\"<your-langsmith-api-key>\"\n",
    "```"
   ]
  },
  {
   "cell_type": "markdown",
   "id": "9cb2a3e5",
   "metadata": {},
   "source": [
    "Here is the LangSmith trace from above agent execution:\n",
    "\n",
    "https://smith.langchain.com/public/6f77014f-d054-44ed-aa2c-8b06ceab689f/r\n",
    "\n",
    "We can see that the agent is able to continue the conversation from the previous state because we used a checkpointer."
   ]
  },
  {
   "cell_type": "markdown",
   "id": "f0269214",
   "metadata": {},
   "source": [
    "### Deployment\n",
    "\n",
    "We can also deploy our graph using [LangGraph Platform](https://langchain-ai.github.io/langgraph/concepts/langgraph_platform/). \n",
    "\n",
    "This creates a server [with an API](https://langchain-ai.github.io/langgraph/cloud/reference/api/api_ref.html) that we can use to interact with our graph and an interactive IDE, LangGraph [Studio](https://langchain-ai.github.io/langgraph/concepts/langgraph_studio/).\n",
    "\n",
    "We simply need to ensure our project has [a structure](https://langchain-ai.github.io/langgraph/concepts/application_structure/) like this:\n",
    "\n",
    "```\n",
    "my-app/\n",
    "├── src/email_assistant # all project code lies within here\n",
    "│   └── langgraph101.py # code for constructing your graph\n",
    "├── .env # environment variables\n",
    "├── langgraph.json  # configuration file for LangGraph\n",
    "└── pyproject.toml # dependencies for your project\n",
    "```\n",
    "\n",
    "The `langgraph.json` file specifies the dependencies, graphs, environment variables, and other settings required to start a LangGraph server.\n",
    "\n",
    "To test this, let's deploy `langgraph_101.py`. We have it in our `langgraph.json` file in this repo:\n",
    "\n",
    "```\n",
    " \"langgraph101\": \"./src/email_assistant/langgraph_101.py:app\",\n",
    "```\n",
    "\n",
    "For LangGraph Platform, there are a range of [deployment options](https://langchain-ai.github.io/langgraph/tutorials/deployment/): \n",
    " \n",
    "* Local deployments can be started with `langgraph dev` from the root directory of the repo. Checkpoints are saved to the local filesystem.\n",
    "* There are also various [self-hosted options](https://langchain-ai.github.io/langgraph/tutorials/deployment/#other-deployment-options). \n",
    "* For hosted deployments, checkpoints are saved to Postgres using a postgres [checkpointer](https://langchain-ai.github.io/langgraph/concepts/persistence/#checkpointer-libraries). \n",
    "\n",
    "Test: \n",
    "```\n",
    "Draft a response to my boss (boss@company.ai) confirming that I want to attent Interrupt!\n",
    "```"
   ]
  },
  {
   "cell_type": "markdown",
   "id": "f3644093",
   "metadata": {},
   "source": [
    "Here we can see a visualization of the graph as well as the graph state in Studio.\n",
    "\n",
    "![langgraph_studio](img/langgraph_studio.png)\n",
    "\n",
    "Also, you can see API docs for the local deployment here:\n",
    "\n",
    "http://127.0.0.1:2024/docs"
   ]
  }
 ],
 "metadata": {
  "jupytext": {
   "cell_metadata_filter": "-all",
   "main_language": "python",
   "notebook_metadata_filter": "-all"
  },
  "kernelspec": {
   "display_name": ".venv",
   "language": "python",
   "name": "python3"
  },
  "language_info": {
   "codemirror_mode": {
    "name": "ipython",
    "version": 3
   },
   "file_extension": ".py",
   "mimetype": "text/x-python",
   "name": "python",
   "nbconvert_exporter": "python",
   "pygments_lexer": "ipython3",
   "version": "3.13.5"
  }
 },
 "nbformat": 4,
 "nbformat_minor": 5
}
